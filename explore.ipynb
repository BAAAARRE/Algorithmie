{
 "cells": [
  {
   "cell_type": "code",
   "execution_count": 42,
   "outputs": [],
   "source": [
    "import os\n",
    "import math"
   ],
   "metadata": {
    "collapsed": false,
    "pycharm": {
     "name": "#%%\n"
    }
   }
  },
  {
   "cell_type": "code",
   "execution_count": 44,
   "outputs": [],
   "source": [
    "def get_all_files(path_folder):\n",
    "  \"\"\"\n",
    "  Get all files names from a folder\n",
    "  :param path_folder: str. Path to folder\n",
    "  :return: list.\n",
    "  \"\"\"\n",
    "  all_positions_files = [f for f in os.listdir(path_folder) if os.path.isfile(os.path.join(path_folder, f))]\n",
    "  return all_positions_files"
   ],
   "metadata": {
    "collapsed": false,
    "pycharm": {
     "name": "#%%\n"
    }
   }
  },
  {
   "cell_type": "code",
   "execution_count": 46,
   "outputs": [],
   "source": [
    "all_positions_files = get_all_files('fichier exam/positions/')"
   ],
   "metadata": {
    "collapsed": false,
    "pycharm": {
     "name": "#%%\n"
    }
   }
  },
  {
   "cell_type": "code",
   "execution_count": 47,
   "outputs": [],
   "source": [
    "def open_positions():\n",
    "  \"\"\"\n",
    "  Open all positions file ant put all lines in a list\n",
    "  :return: list.\n",
    "  \"\"\"\n",
    "  list_positions = []\n",
    "  for position_file in all_positions_files:\n",
    "    with open(f\"fichier exam/positions/{position_file}\") as file:\n",
    "      for line in file:\n",
    "        if line != 'POSADRENA\\n':\n",
    "          list_positions.append(line.split('\\t'))\n",
    "    return list_positions"
   ],
   "metadata": {
    "collapsed": false,
    "pycharm": {
     "name": "#%%\n"
    }
   }
  },
  {
   "cell_type": "code",
   "execution_count": 48,
   "outputs": [],
   "source": [
    "list_positions = open_positions()"
   ],
   "metadata": {
    "collapsed": false,
    "pycharm": {
     "name": "#%%\n"
    }
   }
  },
  {
   "cell_type": "code",
   "execution_count": 49,
   "outputs": [],
   "source": [
    "def list_positions_to_dict(list_positions):\n",
    "  \"\"\"\n",
    "  Put list_positions elements in a dict with incremental id in key for line, and all lines element wih name in key and value in value.\n",
    "  :param list_positions: list.\n",
    "  :return: dict.\n",
    "  \"\"\"\n",
    "  id = 0\n",
    "  dict_positions = {}\n",
    "  for position in list_positions:\n",
    "    dict_positions[id] = {}\n",
    "    list_position = position[0].split(';')\n",
    "\n",
    "    dict_positions[id]['id_voilier'] = list_position[1]\n",
    "    dict_positions[id]['latitude'] = list_position[2]\n",
    "    dict_positions[id]['longitude'] = list_position[3]\n",
    "    dict_positions[id]['date'] = list_position[4]\n",
    "\n",
    "    id += 1\n",
    "    return dict_positions"
   ],
   "metadata": {
    "collapsed": false,
    "pycharm": {
     "name": "#%%\n"
    }
   }
  },
  {
   "cell_type": "code",
   "execution_count": 50,
   "outputs": [],
   "source": [
    "dict_positions = list_positions_to_dict(list_positions)"
   ],
   "metadata": {
    "collapsed": false,
    "pycharm": {
     "name": "#%%\n"
    }
   }
  },
  {
   "cell_type": "code",
   "execution_count": 51,
   "outputs": [],
   "source": [
    "def clean_dict_positions(dict_positions):\n",
    "  \"\"\"\n",
    "\n",
    "  :param dict_positions: dict.\n",
    "  :return: dict.\n",
    "  \"\"\"\n",
    "  for id in dict_positions:\n",
    "    dict_positions[id]['date'] = dict_positions[id]['date'].replace(\"\\n\", \"\")\n",
    "    dict_positions[id]['latitude'] = float(dict_positions[id]['latitude'].replace(\"N\", \"\"))\n",
    "    dict_positions[id]['longitude'] = float(dict_positions[id]['longitude'].replace(\"W\", \"\"))\n",
    "\n",
    "  return dict_positions"
   ],
   "metadata": {
    "collapsed": false,
    "pycharm": {
     "name": "#%%\n"
    }
   }
  },
  {
   "cell_type": "code",
   "execution_count": 52,
   "outputs": [
    {
     "data": {
      "text/plain": "{0: {'id_voilier': '347',\n  'latitude': 12.0801,\n  'longitude': 35.1728,\n  'date': '11/24/21 20:00:05'}}"
     },
     "execution_count": 52,
     "metadata": {},
     "output_type": "execute_result"
    }
   ],
   "source": [
    "clean_dict_positions(dict_positions)"
   ],
   "metadata": {
    "collapsed": false,
    "pycharm": {
     "name": "#%%\n"
    }
   }
  },
  {
   "cell_type": "code",
   "execution_count": 25,
   "outputs": [],
   "source": [],
   "metadata": {
    "collapsed": false,
    "pycharm": {
     "name": "#%%\n"
    }
   }
  },
  {
   "cell_type": "code",
   "execution_count": null,
   "outputs": [],
   "source": [],
   "metadata": {
    "collapsed": false,
    "pycharm": {
     "name": "#%%\n"
    }
   }
  }
 ],
 "metadata": {
  "kernelspec": {
   "display_name": "Python 3",
   "language": "python",
   "name": "python3"
  },
  "language_info": {
   "codemirror_mode": {
    "name": "ipython",
    "version": 2
   },
   "file_extension": ".py",
   "mimetype": "text/x-python",
   "name": "python",
   "nbconvert_exporter": "python",
   "pygments_lexer": "ipython2",
   "version": "2.7.6"
  }
 },
 "nbformat": 4,
 "nbformat_minor": 0
}